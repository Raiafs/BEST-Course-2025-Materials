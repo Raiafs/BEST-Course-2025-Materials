{
 "cells": [
  {
   "cell_type": "markdown",
   "id": "1108a357",
   "metadata": {},
   "source": [
    "## PPG Signal Analysis and Feature Extraction\n",
    "\n",
    "In this notebook, you will explore and extract meaningful features from PPG (Photoplethysmogram) signals from the temporal and spectral domain.\n",
    "This task will be performed using the common libraries for these tasks, HeartPy and NeuroKit2, respectively.\n",
    "\n",
    "To get started, install heartpy and neurokit2. To do it, you can run the following command on the vscode terminal.\n",
    "- pip install opensmile\n"
   ]
  },
  {
   "cell_type": "code",
   "execution_count": 6,
   "id": "4fe3e376",
   "metadata": {},
   "outputs": [],
   "source": [
    "import opensmile\n",
    "import matplotlib.pyplot as plt\n",
    "import numpy as np\n",
    "import pandas as pd\n",
    "import os"
   ]
  },
  {
   "cell_type": "markdown",
   "id": "d6c47217",
   "metadata": {},
   "source": [
    "### Temporal Features Extraction\n",
    "\n",
    "Now that we have the required imports, we can extract features from the signal.\n",
    "To extract features, there are 2 approaches you can use:\n",
    "- The libraries we are using already provide certain features. You can check what features are extracted automatically with the libraries in the last blocks of this notebook.\n",
    "- Certain features are statistical. We can use numpy to perform statistical operations on properties of the signal to acquire them.\n",
    "\n",
    "In the script below we have examples of both techniques, so let's unerstand what we are doing:\n",
    "1. First, we extract working_data and measures from the signal, by processing it using heartpy.\n",
    "2. In measures, we have features such as the Heart Rate (hr), pnn20 and sd1.\n",
    "3. From working_data, we work with the RR_list, where we have a list that had the intervals between consecutive RR peaks, measured in miliseconds (ms).\n",
    "4. From the RR_list, we extract some statistics, sucg as the mean RR interval (mean_rr), sdsd and kurtosis.\n",
    "\n",
    "Now you can add and remove features according to the list of features you chose for your project."
   ]
  },
  {
   "cell_type": "code",
   "execution_count": null,
   "id": "fea9f8dc",
   "metadata": {},
   "outputs": [],
   "source": [
    "from datasets import load_dataset\n",
    "\n",
    "# Load English split (or another language if you prefer)\n",
    "dataset = load_dataset(\"mozilla-foundation/common_voice_12_0\", \"en\", split=\"train[:1%]\")  # small subset for testing"
   ]
  },
  {
   "cell_type": "code",
   "execution_count": null,
   "id": "3fbb6ad5",
   "metadata": {},
   "outputs": [],
   "source": [
    "smile = opensmile.Smile(\n",
    "    feature_set=opensmile.FeatureSet.ComParE_2016,  # or choose emobase, IS10_paraling, etc.\n",
    "    feature_level=opensmile.FeatureLevel.Functionals,\n",
    ")\n",
    "\n",
    "def extract_features(audio_path):\n",
    "    \"\"\"\n",
    "    Extracts audio features from a given audio file.\n",
    "\n",
    "    Args:\n",
    "        audio_path (str): Path to the audio file (wav, mp3, etc.).\n",
    "\n",
    "    Returns:\n",
    "        pandas.Series: Extracted features (functionals) for the entire audio file.\n",
    "    \"\"\"\n",
    "    try:\n",
    "        features = smile.process_file(audio_path)\n",
    "        return features.iloc[0]  # Return as Series (row)\n",
    "    except Exception as e:\n",
    "        print(f\"Error processing {audio_path}: {e}\")\n",
    "        return None"
   ]
  },
  {
   "cell_type": "markdown",
   "id": "824245bd",
   "metadata": {},
   "source": [
    "### HeartPy structure\n",
    "\n",
    "HeartPy processes PPG and ECG signals. By applying the process() method, we can obtain the working_data and measures.\n",
    "The script below helps you explore the data structure resulting from the process() method."
   ]
  },
  {
   "cell_type": "code",
   "execution_count": null,
   "id": "aed0b46b",
   "metadata": {},
   "outputs": [],
   "source": [
    "smile = opensmile.Smile(\n",
    "    feature_set=opensmile.FeatureSet.ComParE_2016,  # or choose emobase, IS10_paraling, etc.\n",
    "    feature_level=opensmile.FeatureLevel.Functionals,\n",
    ")\n",
    "\n",
    "audio_path = \"\"\n",
    "features_df = smile.process_file(audio_path)\n",
    "\n",
    "# Print type and shape of the output\n",
    "print(f\"Type of output: {type(features_df)}\")\n",
    "print(f\"Shape of output: {features_df.shape}\")\n",
    "\n",
    "# The output is a pandas DataFrame with one row (functionals) and many columns (features)\n",
    "print(\"\\nColumns (feature names):\")\n",
    "print(features_df.columns)\n",
    "\n",
    "print(\"\\nPreview of feature values:\")\n",
    "print(features_df.head())\n",
    "\n",
    "# Optional: show statistical info\n",
    "print(\"\\nFeature statistics:\")\n",
    "print(features_df.describe())\n"
   ]
  },
  {
   "cell_type": "markdown",
   "id": "52e1d3c6",
   "metadata": {},
   "source": [
    "### NeuroKit2 Structure\n",
    "\n",
    "Neurokit2 has the power to process multiple signals. For this module, we will be using the method ppg_process() to obtain the working_data(DataFrame) and information(dict).\n",
    "The script below is meant to help you understand how the DataFrame is structured."
   ]
  },
  {
   "cell_type": "code",
   "execution_count": 8,
   "id": "748c4f98",
   "metadata": {},
   "outputs": [
    {
     "ename": "UnicodeEncodeError",
     "evalue": "'ascii' codec can't encode character '\\xed' in position 11: ordinal not in range(128)",
     "output_type": "error",
     "traceback": [
      "\u001b[31m---------------------------------------------------------------------------\u001b[39m",
      "\u001b[31mUnicodeEncodeError\u001b[39m                        Traceback (most recent call last)",
      "\u001b[36mCell\u001b[39m\u001b[36m \u001b[39m\u001b[32mIn[8]\u001b[39m\u001b[32m, line 1\u001b[39m\n\u001b[32m----> \u001b[39m\u001b[32m1\u001b[39m smile = \u001b[43mopensmile\u001b[49m\u001b[43m.\u001b[49m\u001b[43mSmile\u001b[49m\u001b[43m(\u001b[49m\n\u001b[32m      2\u001b[39m \u001b[43m    \u001b[49m\u001b[43mfeature_set\u001b[49m\u001b[43m=\u001b[49m\u001b[43mopensmile\u001b[49m\u001b[43m.\u001b[49m\u001b[43mFeatureSet\u001b[49m\u001b[43m.\u001b[49m\u001b[43mComParE_2016\u001b[49m\u001b[43m,\u001b[49m\n\u001b[32m      3\u001b[39m \u001b[43m    \u001b[49m\u001b[43mfeature_level\u001b[49m\u001b[43m=\u001b[49m\u001b[43mopensmile\u001b[49m\u001b[43m.\u001b[49m\u001b[43mFeatureLevel\u001b[49m\u001b[43m.\u001b[49m\u001b[43mFunctionals\u001b[49m\n\u001b[32m      4\u001b[39m \u001b[43m)\u001b[49m\n\u001b[32m      6\u001b[39m audio_path = os.path.join(os.getcwd(), \u001b[33m\"\u001b[39m\u001b[33mcommon_voice_ka_21298144.mp3\u001b[39m\u001b[33m\"\u001b[39m)\n\u001b[32m      8\u001b[39m \u001b[38;5;66;03m# Extract features\u001b[39;00m\n",
      "\u001b[36mFile \u001b[39m\u001b[32m~\\AppData\\Local\\Packages\\PythonSoftwareFoundation.Python.3.13_qbz5n2kfra8p0\\LocalCache\\local-packages\\Python313\\site-packages\\audobject\\core\\decorator.py:115\u001b[39m, in \u001b[36minit_decorator.<locals>.decorator.<locals>.wrapper\u001b[39m\u001b[34m(self, *args, **kwargs)\u001b[39m\n\u001b[32m    112\u001b[39m \u001b[38;5;28;01mif\u001b[39;00m define.ROOT_ATTRIBUTE \u001b[38;5;129;01min\u001b[39;00m kwargs:\n\u001b[32m    113\u001b[39m     kwargs.pop(define.ROOT_ATTRIBUTE)\n\u001b[32m--> \u001b[39m\u001b[32m115\u001b[39m \u001b[43mfunc\u001b[49m\u001b[43m(\u001b[49m\u001b[38;5;28;43mself\u001b[39;49m\u001b[43m,\u001b[49m\u001b[43m \u001b[49m\u001b[43m*\u001b[49m\u001b[43margs\u001b[49m\u001b[43m,\u001b[49m\u001b[43m \u001b[49m\u001b[43m*\u001b[49m\u001b[43m*\u001b[49m\u001b[43mkwargs\u001b[49m\u001b[43m)\u001b[49m\n",
      "\u001b[36mFile \u001b[39m\u001b[32m~\\AppData\\Local\\Packages\\PythonSoftwareFoundation.Python.3.13_qbz5n2kfra8p0\\LocalCache\\local-packages\\Python313\\site-packages\\audeer\\core\\utils.py:193\u001b[39m, in \u001b[36mdeprecated_keyword_argument.<locals>._deprecated.<locals>.new_func\u001b[39m\u001b[34m(*args, **kwargs)\u001b[39m\n\u001b[32m    187\u001b[39m             kwargs[new_argument] = argument_content\n\u001b[32m    188\u001b[39m     warnings.warn(\n\u001b[32m    189\u001b[39m         message,\n\u001b[32m    190\u001b[39m         category=\u001b[38;5;167;01mUserWarning\u001b[39;00m,\n\u001b[32m    191\u001b[39m         stacklevel=\u001b[32m2\u001b[39m,\n\u001b[32m    192\u001b[39m     )\n\u001b[32m--> \u001b[39m\u001b[32m193\u001b[39m \u001b[38;5;28;01mreturn\u001b[39;00m \u001b[43mfunc\u001b[49m\u001b[43m(\u001b[49m\u001b[43m*\u001b[49m\u001b[43margs\u001b[49m\u001b[43m,\u001b[49m\u001b[43m \u001b[49m\u001b[43m*\u001b[49m\u001b[43m*\u001b[49m\u001b[43mkwargs\u001b[49m\u001b[43m)\u001b[49m\n",
      "\u001b[36mFile \u001b[39m\u001b[32m~\\AppData\\Local\\Packages\\PythonSoftwareFoundation.Python.3.13_qbz5n2kfra8p0\\LocalCache\\local-packages\\Python313\\site-packages\\opensmile\\core\\smile.py:170\u001b[39m, in \u001b[36mSmile.__init__\u001b[39m\u001b[34m(self, feature_set, feature_level, options, loglevel, logfile, sampling_rate, channels, mixdown, resample, segment, keep_nat, num_workers, multiprocessing, verbose)\u001b[39m\n\u001b[32m    165\u001b[39m \u001b[38;5;28mself\u001b[39m.verbose = verbose\n\u001b[32m    167\u001b[39m \u001b[38;5;28mself\u001b[39m._check_deltas_available()\n\u001b[32m    169\u001b[39m \u001b[38;5;28msuper\u001b[39m().\u001b[34m__init__\u001b[39m(\n\u001b[32m--> \u001b[39m\u001b[32m170\u001b[39m     \u001b[38;5;28;43mself\u001b[39;49m\u001b[43m.\u001b[49m\u001b[43m_feature_names\u001b[49m\u001b[43m(\u001b[49m\u001b[43m)\u001b[49m,\n\u001b[32m    171\u001b[39m     name=\u001b[33m\"\u001b[39m\u001b[33msmile\u001b[39m\u001b[33m\"\u001b[39m,\n\u001b[32m    172\u001b[39m     params=\u001b[38;5;28;01mNone\u001b[39;00m,\n\u001b[32m    173\u001b[39m     process_func=\u001b[38;5;28mself\u001b[39m._extract,\n\u001b[32m    174\u001b[39m     num_workers=num_workers,\n\u001b[32m    175\u001b[39m     sampling_rate=sampling_rate,\n\u001b[32m    176\u001b[39m     resample=resample,\n\u001b[32m    177\u001b[39m     channels=channels,\n\u001b[32m    178\u001b[39m     mixdown=mixdown,\n\u001b[32m    179\u001b[39m     segment=segment,\n\u001b[32m    180\u001b[39m     keep_nat=keep_nat,\n\u001b[32m    181\u001b[39m     multiprocessing=multiprocessing,\n\u001b[32m    182\u001b[39m     verbose=verbose,\n\u001b[32m    183\u001b[39m )\n\u001b[32m    184\u001b[39m \u001b[38;5;28mself\u001b[39m.params = \u001b[38;5;28mself\u001b[39m.to_dict(flatten=\u001b[38;5;28;01mTrue\u001b[39;00m)\n\u001b[32m    186\u001b[39m \u001b[38;5;28mself\u001b[39m._check_deprecated()\n",
      "\u001b[36mFile \u001b[39m\u001b[32m~\\AppData\\Local\\Packages\\PythonSoftwareFoundation.Python.3.13_qbz5n2kfra8p0\\LocalCache\\local-packages\\Python313\\site-packages\\opensmile\\core\\smile.py:322\u001b[39m, in \u001b[36mSmile._feature_names\u001b[39m\u001b[34m(self)\u001b[39m\n\u001b[32m    318\u001b[39m options = \u001b[38;5;28mself\u001b[39m._options()\n\u001b[32m    319\u001b[39m options[\u001b[33m\"\u001b[39m\u001b[33msource\u001b[39m\u001b[33m\"\u001b[39m] = os.path.join(\n\u001b[32m    320\u001b[39m     \u001b[38;5;28mself\u001b[39m.default_config_root, config.EXTERNAL_INPUT_CONFIG\n\u001b[32m    321\u001b[39m )\n\u001b[32m--> \u001b[39m\u001b[32m322\u001b[39m smile = \u001b[38;5;28;43mself\u001b[39;49m\u001b[43m.\u001b[49m\u001b[43m_smile\u001b[49m\u001b[43m(\u001b[49m\u001b[43moptions\u001b[49m\u001b[43m=\u001b[49m\u001b[43moptions\u001b[49m\u001b[43m)\u001b[49m\n\u001b[32m    323\u001b[39m num_elements = smile.external_sink_get_num_elements(\n\u001b[32m    324\u001b[39m     config.EXTERNAL_OUTPUT_COMPONENT\n\u001b[32m    325\u001b[39m )\n\u001b[32m    326\u001b[39m names = [\n\u001b[32m    327\u001b[39m     smile.external_sink_get_element_name(config.EXTERNAL_OUTPUT_COMPONENT, idx)\n\u001b[32m    328\u001b[39m     \u001b[38;5;28;01mfor\u001b[39;00m idx \u001b[38;5;129;01min\u001b[39;00m \u001b[38;5;28mrange\u001b[39m(num_elements)\n\u001b[32m    329\u001b[39m ]\n",
      "\u001b[36mFile \u001b[39m\u001b[32m~\\AppData\\Local\\Packages\\PythonSoftwareFoundation.Python.3.13_qbz5n2kfra8p0\\LocalCache\\local-packages\\Python313\\site-packages\\opensmile\\core\\smile.py:413\u001b[39m, in \u001b[36mSmile._smile\u001b[39m\u001b[34m(self, options)\u001b[39m\n\u001b[32m    411\u001b[39m \u001b[38;5;250m\u001b[39m\u001b[33mr\u001b[39m\u001b[33;03m\"\"\"Set up smile instance.\"\"\"\u001b[39;00m\n\u001b[32m    412\u001b[39m smile = OpenSMILE()\n\u001b[32m--> \u001b[39m\u001b[32m413\u001b[39m \u001b[43msmile\u001b[49m\u001b[43m.\u001b[49m\u001b[43minitialize\u001b[49m\u001b[43m(\u001b[49m\n\u001b[32m    414\u001b[39m \u001b[43m    \u001b[49m\u001b[43mconfig_file\u001b[49m\u001b[43m=\u001b[49m\u001b[38;5;28;43mself\u001b[39;49m\u001b[43m.\u001b[49m\u001b[43mconfig_path\u001b[49m\u001b[43m,\u001b[49m\n\u001b[32m    415\u001b[39m \u001b[43m    \u001b[49m\u001b[43moptions\u001b[49m\u001b[43m=\u001b[49m\u001b[43moptions\u001b[49m\u001b[43m,\u001b[49m\n\u001b[32m    416\u001b[39m \u001b[43m    \u001b[49m\u001b[43mloglevel\u001b[49m\u001b[43m=\u001b[49m\u001b[38;5;28;43mself\u001b[39;49m\u001b[43m.\u001b[49m\u001b[43mloglevel\u001b[49m\u001b[43m,\u001b[49m\n\u001b[32m    417\u001b[39m \u001b[43m    \u001b[49m\u001b[43mlog_file\u001b[49m\u001b[43m=\u001b[49m\u001b[38;5;28;43mself\u001b[39;49m\u001b[43m.\u001b[49m\u001b[43mlogfile\u001b[49m\u001b[43m,\u001b[49m\n\u001b[32m    418\u001b[39m \u001b[43m    \u001b[49m\u001b[43mdebug\u001b[49m\u001b[43m=\u001b[49m\u001b[38;5;28;43mself\u001b[39;49m\u001b[43m.\u001b[49m\u001b[43mverbose\u001b[49m\u001b[43m,\u001b[49m\n\u001b[32m    419\u001b[39m \u001b[43m\u001b[49m\u001b[43m)\u001b[49m\n\u001b[32m    420\u001b[39m \u001b[38;5;28;01mreturn\u001b[39;00m smile\n",
      "\u001b[36mFile \u001b[39m\u001b[32m~\\AppData\\Local\\Packages\\PythonSoftwareFoundation.Python.3.13_qbz5n2kfra8p0\\LocalCache\\local-packages\\Python313\\site-packages\\opensmile\\core\\lib.py:319\u001b[39m, in \u001b[36mOpenSMILE.initialize\u001b[39m\u001b[34m(self, config_file, options, loglevel, debug, console_output, log_file)\u001b[39m\n\u001b[32m    317\u001b[39m \u001b[38;5;28;01mif\u001b[39;00m \u001b[38;5;28mself\u001b[39m._smileobj \u001b[38;5;129;01mis\u001b[39;00m \u001b[38;5;28;01mNone\u001b[39;00m:\n\u001b[32m    318\u001b[39m     \u001b[38;5;28;01mraise\u001b[39;00m OpenSmileException(SMILE_FAIL, \u001b[33m\"\u001b[39m\u001b[33mcould not create new SMILEapi object\u001b[39m\u001b[33m\"\u001b[39m)\n\u001b[32m--> \u001b[39m\u001b[32m319\u001b[39m options_flat = \u001b[38;5;28;43mlist\u001b[39;49m\u001b[43m(\u001b[49m\n\u001b[32m    320\u001b[39m \u001b[43m    \u001b[49m\u001b[38;5;28;43mmap\u001b[39;49m\u001b[43m(\u001b[49m\u001b[38;5;28;43;01mlambda\u001b[39;49;00m\u001b[43m \u001b[49m\u001b[43mv\u001b[49m\u001b[43m:\u001b[49m\u001b[43m \u001b[49m\u001b[38;5;28;43mbytes\u001b[39;49m\u001b[43m(\u001b[49m\u001b[38;5;28;43mstr\u001b[39;49m\u001b[43m(\u001b[49m\u001b[43mv\u001b[49m\u001b[43m)\u001b[49m\u001b[43m,\u001b[49m\u001b[43m \u001b[49m\u001b[33;43m\"\u001b[39;49m\u001b[33;43mascii\u001b[39;49m\u001b[33;43m\"\u001b[39;49m\u001b[43m)\u001b[49m\u001b[43m,\u001b[49m\u001b[43m \u001b[49m\u001b[38;5;28;43msum\u001b[39;49m\u001b[43m(\u001b[49m\u001b[43moptions\u001b[49m\u001b[43m.\u001b[49m\u001b[43mitems\u001b[49m\u001b[43m(\u001b[49m\u001b[43m)\u001b[49m\u001b[43m,\u001b[49m\u001b[43m \u001b[49m\u001b[43m(\u001b[49m\u001b[43m)\u001b[49m\u001b[43m)\u001b[49m\u001b[43m)\u001b[49m\n\u001b[32m    321\u001b[39m \u001b[43m\u001b[49m\u001b[43m)\u001b[49m\n\u001b[32m    322\u001b[39m options_char_arr = c_char_p_arr(options_flat)\n\u001b[32m    323\u001b[39m log_file = \u001b[38;5;28mbytes\u001b[39m(log_file, \u001b[33m\"\u001b[39m\u001b[33mascii\u001b[39m\u001b[33m\"\u001b[39m) \u001b[38;5;28;01mif\u001b[39;00m log_file \u001b[38;5;28;01melse\u001b[39;00m \u001b[38;5;28mint\u001b[39m(\u001b[32m0\u001b[39m)\n",
      "\u001b[36mFile \u001b[39m\u001b[32m~\\AppData\\Local\\Packages\\PythonSoftwareFoundation.Python.3.13_qbz5n2kfra8p0\\LocalCache\\local-packages\\Python313\\site-packages\\opensmile\\core\\lib.py:320\u001b[39m, in \u001b[36mOpenSMILE.initialize.<locals>.<lambda>\u001b[39m\u001b[34m(v)\u001b[39m\n\u001b[32m    317\u001b[39m \u001b[38;5;28;01mif\u001b[39;00m \u001b[38;5;28mself\u001b[39m._smileobj \u001b[38;5;129;01mis\u001b[39;00m \u001b[38;5;28;01mNone\u001b[39;00m:\n\u001b[32m    318\u001b[39m     \u001b[38;5;28;01mraise\u001b[39;00m OpenSmileException(SMILE_FAIL, \u001b[33m\"\u001b[39m\u001b[33mcould not create new SMILEapi object\u001b[39m\u001b[33m\"\u001b[39m)\n\u001b[32m    319\u001b[39m options_flat = \u001b[38;5;28mlist\u001b[39m(\n\u001b[32m--> \u001b[39m\u001b[32m320\u001b[39m     \u001b[38;5;28mmap\u001b[39m(\u001b[38;5;28;01mlambda\u001b[39;00m v: \u001b[38;5;28;43mbytes\u001b[39;49m\u001b[43m(\u001b[49m\u001b[38;5;28;43mstr\u001b[39;49m\u001b[43m(\u001b[49m\u001b[43mv\u001b[49m\u001b[43m)\u001b[49m\u001b[43m,\u001b[49m\u001b[43m \u001b[49m\u001b[33;43m\"\u001b[39;49m\u001b[33;43mascii\u001b[39;49m\u001b[33;43m\"\u001b[39;49m\u001b[43m)\u001b[49m, \u001b[38;5;28msum\u001b[39m(options.items(), ()))\n\u001b[32m    321\u001b[39m )\n\u001b[32m    322\u001b[39m options_char_arr = c_char_p_arr(options_flat)\n\u001b[32m    323\u001b[39m log_file = \u001b[38;5;28mbytes\u001b[39m(log_file, \u001b[33m\"\u001b[39m\u001b[33mascii\u001b[39m\u001b[33m\"\u001b[39m) \u001b[38;5;28;01mif\u001b[39;00m log_file \u001b[38;5;28;01melse\u001b[39;00m \u001b[38;5;28mint\u001b[39m(\u001b[32m0\u001b[39m)\n",
      "\u001b[31mUnicodeEncodeError\u001b[39m: 'ascii' codec can't encode character '\\xed' in position 11: ordinal not in range(128)"
     ]
    }
   ],
   "source": [
    "smile = opensmile.Smile(\n",
    "    feature_set=opensmile.FeatureSet.ComParE_2016,\n",
    "    feature_level=opensmile.FeatureLevel.Functionals\n",
    ")\n",
    "\n",
    "audio_path = os.path.join(os.getcwd(), \"common_voice_ka_21298144.mp3\")\n",
    "\n",
    "# Extract features\n",
    "features_df = smile.process_file(audio_path)\n",
    "\n",
    "# Print type and shape of the output\n",
    "print(f\"Type of output: {type(features_df)}\")\n",
    "print(f\"Shape of output: {features_df.shape}\")\n",
    "\n",
    "# The output is a pandas DataFrame with one row and many columns\n",
    "print(\"\\nColumns (feature names):\")\n",
    "print(features_df.columns)\n",
    "\n",
    "print(\"\\nPreview of feature values:\")\n",
    "print(features_df.head())\n",
    "\n",
    "print(\"\\nFeature statistics:\")\n",
    "print(features_df.describe())"
   ]
  }
 ],
 "metadata": {
  "kernelspec": {
   "display_name": "Python 3",
   "language": "python",
   "name": "python3"
  },
  "language_info": {
   "codemirror_mode": {
    "name": "ipython",
    "version": 3
   },
   "file_extension": ".py",
   "mimetype": "text/x-python",
   "name": "python",
   "nbconvert_exporter": "python",
   "pygments_lexer": "ipython3",
   "version": "3.13.5"
  }
 },
 "nbformat": 4,
 "nbformat_minor": 5
}
