{
 "cells": [
  {
   "cell_type": "markdown",
   "id": "ce02a8e8",
   "metadata": {},
   "source": [
    "## Support Vector Machine training and evaluation\n",
    "\n",
    "In this notebook, you will explore and train a Support Vector Machine classifier, using the dataset provided and the features extracted previously.\n",
    "The Support Vector Machine we'll be using is the one from sklearn.\n",
    "\n",
    "To get started, we have to import some tools to train, test, save and load the model."
   ]
  },
  {
   "cell_type": "code",
   "execution_count": null,
   "id": "bd46f4db",
   "metadata": {},
   "outputs": [],
   "source": [
    "import pickle\n",
    "from sklearn.svm import SVC\n",
    "from sklearn.model_selection import train_test_split\n",
    "from sklearn.metrics import accuracy_score"
   ]
  },
  {
   "cell_type": "markdown",
   "id": "2fe75923",
   "metadata": {},
   "source": [
    "### Loading the training data and creating a train testing split\n",
    "\n",
    "Using the pickle library, we can retrieve the features we extracted in the feature extraction stage.\n",
    "The format of the data that is stored is (X,y) where:\n",
    "- X is the list of feature vectors.\n",
    "- y is the list of labels.\n",
    "- The label in position y[i] is respective to the feature vector in X[i].\n",
    "\n",
    "After loading, we create a train_test split. The split is done randomly (we set a random_state to make it deterministic so you can run this cell multiple times), with 20% being set for testing and the remaining for training.\n",
    "We will use the training for the model training and the testing to evaluate the trained models."
   ]
  },
  {
   "cell_type": "code",
   "execution_count": null,
   "id": "d2c24995",
   "metadata": {},
   "outputs": [],
   "source": [
    "training_vectors = \"training_vectors.pkl\"  # Path for the .pkl containing the extracted training data\n",
    "\n",
    "with open(training_vectors, \"rb\") as f:\n",
    "    data = pickle.load(f)\n",
    "\n",
    "# Assuming the pickle contains a tuple: (X, y)\n",
    "X, y = data\n",
    "\n",
    "X_train, X_test, y_train, y_test = train_test_split(X, y, test_size=0.2, random_state=42)"
   ]
  },
  {
   "cell_type": "markdown",
   "id": "d6ba4e4a",
   "metadata": {},
   "source": [
    "### Support Vector Machine Training\n",
    "\n",
    "Now we create a support vector machine(svm) with set parameters, and then train it using the fit() method.\n",
    "By playing with the parameters, you can improve the quality of your model, so play with the parameters.\n",
    "For each model you train, make sure to change the output_model_path, so you save all of them in different files."
   ]
  },
  {
   "cell_type": "code",
   "execution_count": null,
   "id": "2638035d",
   "metadata": {},
   "outputs": [],
   "source": [
    "output_model_path = \"trained_svm_model.pkl\"    # Model name\n",
    "\n",
    "svm = SVC(kernel='rbf', C=1.0, gamma='scale', random_state=42)  # You can adjust C, kernel, degree, gamma, coef0 and use random_state to have reproducible results\n",
    "svm.fit(X_train, y_train)\n",
    "\n",
    "with open(output_model_path, \"wb\") as f:\n",
    "    pickle.dump(svm, f)"
   ]
  },
  {
   "cell_type": "markdown",
   "id": "f034d269",
   "metadata": {},
   "source": [
    "### Support Vector Machine Evaluation\n",
    "\n",
    "Now that we have trained some models, you can evaluate them and compare their metrics.\n",
    "We have accuracy as an example, however we encourage to explore multiple metrics, such as accuracy, precision, recall, f1-score, evaluate the confusion matrix or calculate the AUC.\n",
    "\n",
    "To do it, we load the model and test it by:\n",
    "- Using the model to predict the labels of the X_test vector.\n",
    "- Compare the actual labels (y_test) with the predicted labels (y_pred) through the metrics."
   ]
  },
  {
   "cell_type": "code",
   "execution_count": null,
   "id": "8de76ce5",
   "metadata": {},
   "outputs": [],
   "source": [
    "output_model_path = \"trained_svm_model.pkl\"    # Model name\n",
    "with open(output_model_path, \"rb\") as f:\n",
    "    svm = pickle.load(f)"
   ]
  },
  {
   "cell_type": "code",
   "execution_count": null,
   "id": "c26cf07f",
   "metadata": {},
   "outputs": [],
   "source": [
    "y_pred = svm.predict(X_test)\n",
    "accuracy = accuracy_score(y_test, y_pred)\n",
    "print(f\"Validation Accuracy: {accuracy:.2%}\")"
   ]
  }
 ],
 "metadata": {
  "kernelspec": {
   "display_name": "Python 3",
   "language": "python",
   "name": "python3"
  },
  "language_info": {
   "codemirror_mode": {
    "name": "ipython",
    "version": 3
   },
   "file_extension": ".py",
   "mimetype": "text/x-python",
   "name": "python",
   "nbconvert_exporter": "python",
   "pygments_lexer": "ipython3",
   "version": "3.13.5"
  }
 },
 "nbformat": 4,
 "nbformat_minor": 5
}
