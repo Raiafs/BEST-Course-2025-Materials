{
 "cells": [
  {
   "cell_type": "markdown",
   "id": "1108a357",
   "metadata": {},
   "source": [
    "## EMG Signal Analysis and Feature Extraction\n",
    "\n",
    "In this notebook, you will explore and extract meaningful features from EMG (Electromyography) signals from the temporal and spectral domain.\n",
    "This task will be performed using the common libraries NeuroKit2, scipy.signal and pywt.\n",
    "\n",
    "To get started, install neurokit2. To do it, you can run the following command on the vscode terminal.\n",
    "- pip install neurokit2\n"
   ]
  },
  {
   "cell_type": "code",
   "execution_count": null,
   "id": "4fe3e376",
   "metadata": {},
   "outputs": [],
   "source": [
    "import neurokit2 as nk\n",
    "import matplotlib.pyplot as plt\n",
    "import numpy as np\n",
    "import scipy.signal as signal\n",
    "import pywt"
   ]
  },
  {
   "cell_type": "markdown",
   "id": "d6c47217",
   "metadata": {},
   "source": [
    "### Temporal Features Extraction\n",
    "\n",
    "Now that we have the required imports, we can extract features from the signal.\n",
    "To extract features, there are 2 approaches you can use:\n",
    "- The libraries we are using already provide certain features. You can check what features are extracted automatically with the libraries in the last blocks of this notebook.\n",
    "- Certain features are statistical. We can use numpy to perform statistical operations on properties of the signal to acquire them.\n",
    "\n",
    "In the script below we work as follows:\n",
    "1. Clean the original singal using NeuroKit2.\n",
    "2. Extract the RMS of the signal directly from the clean format.\n",
    "\n",
    "Now you can add and remove features according to the list of features you chose for your project."
   ]
  },
  {
   "cell_type": "code",
   "execution_count": null,
   "id": "3fbb6ad5",
   "metadata": {},
   "outputs": [],
   "source": [
    "def extract_emg_temporal_features( emg_signal:np.array, sampling_rate:int ) -> tuple :\n",
    "    \"\"\"\n",
    "    Extracts temporal features from the EMG signal.\n",
    "\n",
    "    Parameters:\n",
    "        emg_signal (np.array): The EMG signal\n",
    "        sampling_rate (int): Sampling frequency in Hz\n",
    "\n",
    "    Returns:\n",
    "        tuple of the extracted temporal features\n",
    "    \"\"\"\n",
    "    # Clean EMG signal using NeuroKit2\n",
    "    emg_cleaned = nk.emg_clean(emg_signal, sampling_rate=sampling_rate)\n",
    "\n",
    "    # Add features here\n",
    "    rms = np.sqrt(np.mean(np.square(emg_cleaned)))\n",
    "\n",
    "    return (rms)"
   ]
  },
  {
   "cell_type": "markdown",
   "id": "e6c255bd",
   "metadata": {},
   "source": [
    "### Spectral Features Extraction\n",
    "\n",
    "Additionally, we can also extract spectral features from the signal.\n",
    "To extrach EMG spectral features, we'll be using Welch's method to speed up and simplify the tranformation to spectral domain.\n",
    "However, we also encourage to search the internet to use other techniques if you believe more suitable\n",
    "\n",
    "In the script below we:\n",
    "1. Clear the signal using NeuroKit2.\n",
    "2. Extract the freqs and psd using the scipy.signal library, which will correspond to the frequencies we are detecting from the signal and the power of each frequency (respectively).\n",
    "    - You can view them as a histogram, where freqs are the bars at the x axis and psd the y value of each bar. \n",
    "3. Extract the median frequency directly from the power distribution of the spectral domain.\n",
    "4. Perform the wavelet-based frequency estimation and normalize the resultant powers\n",
    "5. Extract the wavelet median frequency.\n",
    "\n",
    "Now you can add and remove features according to the list of features you chose for your project."
   ]
  },
  {
   "cell_type": "code",
   "execution_count": null,
   "id": "327be396",
   "metadata": {},
   "outputs": [],
   "source": [
    "def extract_emg_spectral_features(emg_signal: np.array, sampling_rate: int) -> tuple:\n",
    "    \"\"\"\n",
    "    Extracts spectral features from an EMG signal.\n",
    "\n",
    "    Parameters:\n",
    "        emg_signal (np.array): The EMG signal\n",
    "        sampling_rate (int): Sampling frequency in Hz\n",
    "\n",
    "    Returns:\n",
    "        tuple of the extracted spectral features.\n",
    "    \"\"\"\n",
    "    # Clean the EMG signal using NeuroKit2\n",
    "    emg_cleaned = nk.emg_clean(emg_signal, sampling_rate=sampling_rate)\n",
    "\n",
    "    ## Frequency domain analysis (Welch's method)\n",
    "    freqs, psd = signal.welch(emg_cleaned, fs=sampling_rate, nperseg=1024)\n",
    "\n",
    "    #Add features here\n",
    "    cumulative_power = np.cumsum(psd)\n",
    "    total_power = cumulative_power[-1]\n",
    "    median_freq = freqs[np.where(cumulative_power >= total_power / 2)[0][0]]\n",
    "\n",
    "    ## Wavelet-based frequency estimation\n",
    "    coeffs = pywt.wavedec(emg_cleaned, 'db4', level=4)\n",
    "    wavelet_powers = [np.sum(np.square(c)) for c in coeffs[1:]]  # Ignore approximation\n",
    "    wavelet_freqs = [sampling_rate / (2 ** (i + 1)) for i in range(len(wavelet_powers))]\n",
    "    \n",
    "    ## Normalize wavelet powers\n",
    "    wavelet_total_power = sum(wavelet_powers)\n",
    "    wavelet_cumsum = np.cumsum(wavelet_powers)\n",
    "\n",
    "    #Add features here\n",
    "    wmf = wavelet_freqs[np.where(wavelet_cumsum >= wavelet_total_power / 2)[0][0]]\n",
    "\n",
    "\n",
    "    return (median_freq, wmf)\n"
   ]
  },
  {
   "cell_type": "markdown",
   "id": "52e1d3c6",
   "metadata": {},
   "source": [
    "### NeuroKit2 Structure\n",
    "\n",
    "Neurokit2 has the power to process multiple signals. For this module, we will be using the method emg_process() to obtain the working_data(DataFrame) and information(dict).\n",
    "The script below is meant to help you understand how the DataFrame is structured."
   ]
  },
  {
   "cell_type": "code",
   "execution_count": null,
   "id": "748c4f98",
   "metadata": {},
   "outputs": [],
   "source": [
    "sr = 1000\n",
    "\n",
    "# Simulate EMG signal\n",
    "emg_signal = nk.emg_simulate(duration=10, sampling_rate=sr, burst_number=3)\n",
    "\n",
    "# Plot raw EMG signal\n",
    "nk.signal_plot(emg_signal, sampling_rate=sr)\n",
    "plt.show()\n",
    "\n",
    "# Process the EMG signal\n",
    "signals, info = nk.emg_process(emg_signal, sampling_rate=sr)\n",
    "\n",
    "# Plot processed EMG: Clean signal + Amplitude (Envelope)\n",
    "plt.figure(figsize=(12, 4))\n",
    "plt.plot(signals[\"EMG_Clean\"], label=\"EMG Clean\", color='slateblue')\n",
    "plt.plot(signals[\"EMG_Amplitude\"], label=\"EMG Amplitude\", color='orange')\n",
    "plt.title(\"💪 Processed EMG Signal with Amplitude (Envelope)\")\n",
    "plt.xlabel(\"Samples\")\n",
    "plt.ylabel(\"Amplitude\")\n",
    "plt.legend()\n",
    "plt.show()\n",
    "\n",
    "# Print columns and first few rows\n",
    "print(\"\\n📊 Available columns in processed signal:\")\n",
    "print(signals.columns.tolist())\n",
    "\n",
    "print(\"\\n🔍 First 5 rows of processed signal:\")\n",
    "print(signals.head())"
   ]
  }
 ],
 "metadata": {
  "kernelspec": {
   "display_name": ".venv",
   "language": "python",
   "name": "python3"
  },
  "language_info": {
   "codemirror_mode": {
    "name": "ipython",
    "version": 3
   },
   "file_extension": ".py",
   "mimetype": "text/x-python",
   "name": "python",
   "nbconvert_exporter": "python",
   "pygments_lexer": "ipython3",
   "version": "3.13.5"
  }
 },
 "nbformat": 4,
 "nbformat_minor": 5
}
