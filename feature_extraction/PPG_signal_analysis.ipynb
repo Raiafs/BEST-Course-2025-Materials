{
 "cells": [
  {
   "cell_type": "markdown",
   "id": "1108a357",
   "metadata": {},
   "source": [
    "## PPG Signal Analysis and Feature Extraction\n",
    "\n",
    "In this notebook, you will explore and extract meaningful features from PPG (Photoplethysmogram) signals from the temporal and spectral domain.\n",
    "This task will be performed using the common libraries for these tasks, HeartPy and NeuroKit2, respectively.\n",
    "\n",
    "To get started, install heartpy and neurokit2. To do it, you can run the following command on the vscode terminal.\n",
    "- pip install heartpy neurokit2\n"
   ]
  },
  {
   "cell_type": "code",
   "execution_count": null,
   "id": "4fe3e376",
   "metadata": {},
   "outputs": [],
   "source": [
    "import heartpy as hp\n",
    "import neurokit2 as nk\n",
    "import matplotlib.pyplot as plt\n",
    "import numpy as np"
   ]
  },
  {
   "cell_type": "markdown",
   "id": "d6c47217",
   "metadata": {},
   "source": [
    "### Temporal Features Extraction\n",
    "\n",
    "Now that we have the required imports, we can extract features from the signal.\n",
    "To extract features, there are 2 approaches you can use:\n",
    "- The libraries we are using already provide certain features. You can check what features are extracted automatically with the libraries in the last blocks of this notebook.\n",
    "- Certain features are statistical. We can use numpy to perform statistical operations on properties of the signal to acquire them.\n",
    "\n",
    "In the script below we have examples of both techniques, so let's unerstand what we are doing:\n",
    "1. First, we extract working_data and measures from the signal, by processing it using heartpy.\n",
    "2. In measures, we have features such as the Heart Rate (hr), pnn20 and sd1.\n",
    "3. From working_data, we work with the RR_list, where we have a list that had the intervals between consecutive RR peaks, measured in miliseconds (ms).\n",
    "4. From the RR_list, we extract some statistics, sucg as the mean RR interval (mean_rr), sdsd and kurtosis.\n",
    "\n",
    "Now you can add and remove features according to the list of features you chose for your project."
   ]
  },
  {
   "cell_type": "code",
   "execution_count": null,
   "id": "3fbb6ad5",
   "metadata": {},
   "outputs": [],
   "source": [
    "from scipy.stats import kurtosis\n",
    "\n",
    "def extract_ppg_temporal_features( ppg_signal:np.array, sampling_rate:int ) -> tuple :\n",
    "    \"\"\"\n",
    "    Extracts key heart rate variability (HRV) and statistical temporal features from a PPG signal.\n",
    "\n",
    "    Parameters:\n",
    "        ppg_signal (np.array): The raw PPG signal as a 1D NumPy array.\n",
    "        sampling_rate (int): The sampling rate of the signal in Hz.\n",
    "\n",
    "    Returns:\n",
    "        tuple with temporal features\n",
    "    \"\"\"\n",
    "    working_data, measures = hp.process(ppg_signal, sampling_rate)\n",
    "    rr_list = np.array(working_data['RR_list']) # RR_list is the list of intervals between consecutive RR peaks\n",
    "    \n",
    "    # add and remove features according to your needs. \n",
    "    mean_rr = np.mean(rr_list)\n",
    "    rr_kurtosis = kurtosis(rr_list)\n",
    "    sdsd = np.std(np.diff(rr_list), ddof=1)\n",
    "    hr = measures['bpm']\n",
    "    pnn20 = measures['pnn20']\n",
    "    sd1 = measures['sd1']\n",
    "    \n",
    "    return (mean_rr, rr_kurtosis, sdsd, hr, pnn20)"
   ]
  },
  {
   "cell_type": "markdown",
   "id": "e6c255bd",
   "metadata": {},
   "source": [
    "### Spectral Features Extraction\n",
    "\n",
    "Additionally, we can also extract spectral features from the signal.\n",
    "NeuroKit2 extracts most of the features in the spectral domain, so all examples are using them. \n",
    "However, we encourage you to search how to extract any features you believe should be included and aren't in the standard NeuroKit2 features.\n",
    "\n",
    "In the script below we:\n",
    "1. First, we extract a processed format of the signal and its info.\n",
    "2. From the processed signal, we select the peaks list. The PPG peaks marked as “1” in a list of zeros.\n",
    "3. We extract the frequency features power in Low Frequency bands and LF/HF ratio.\n",
    "\n",
    "Now you can add and remove features according to the list of features you chose for your project."
   ]
  },
  {
   "cell_type": "code",
   "execution_count": null,
   "id": "327be396",
   "metadata": {},
   "outputs": [],
   "source": [
    "def extract_ppg_spectral_features( ppg_signal:np.array, sampling_rate:int ) -> tuple :\n",
    "    \"\"\"\n",
    "    Extracts key statistical spectral features from a PPG signal.\n",
    "\n",
    "    Parameters:\n",
    "        ppg_signal (np.array): The raw PPG signal as a 1D NumPy array.\n",
    "        sampling_rate (int): The sampling rate of the signal in Hz.\n",
    "\n",
    "    Returns:\n",
    "        tuple with spectral features\n",
    "    \"\"\"\n",
    "    processed, info = nk.ppg_process(ppg_signal, sampling_rate=sampling_rate)\n",
    "    peaks = processed[\"PPG_Peaks\"]\n",
    "    hrv_freq = nk.hrv_frequency(peaks, sampling_rate=4, show=False)\n",
    "    \n",
    "    # add and remove features according to your needs. \n",
    "    lf_power = hrv_freq['HRV_LF']\n",
    "    lfhf_ratio = hrv_freq['HRV_LFHF']\n",
    "    \n",
    "    return (lf_power, lfhf_ratio)"
   ]
  },
  {
   "cell_type": "markdown",
   "id": "824245bd",
   "metadata": {},
   "source": [
    "### HeartPy structure\n",
    "\n",
    "HeartPy processes PPG and ECG signals. By applying the process() method, we can obtain the working_data and measures.\n",
    "The script below helps you explore the data structure resulting from the process() method."
   ]
  },
  {
   "cell_type": "code",
   "execution_count": null,
   "id": "aed0b46b",
   "metadata": {},
   "outputs": [],
   "source": [
    "ppg_signal = hp.get_data('data.csv')\n",
    "sr = 100 #sample rate\n",
    "\n",
    "working_data, measures = hp.process(ppg_signal, sr)\n",
    "\n",
    "hp.plotter(working_data, measures)\n",
    "plt.show()\n",
    "\n",
    "print(\"\\n--- HeartPy key informations ---\")\n",
    "for key in working_data:\n",
    "    print(key)\n",
    "print(\"\\n--- HeartPy Metrics ---\")\n",
    "for key, value in measures.items():\n",
    "    print(f\"{key}: {value}\")\n"
   ]
  },
  {
   "cell_type": "markdown",
   "id": "52e1d3c6",
   "metadata": {},
   "source": [
    "### NeuroKit2 Structure\n",
    "\n",
    "Neurokit2 has the power to process multiple signals. For this module, we will be using the method ppg_process() to obtain the working_data(DataFrame) and information(dict).\n",
    "The script below is meant to help you understand how the DataFrame is structured."
   ]
  },
  {
   "cell_type": "code",
   "execution_count": null,
   "id": "748c4f98",
   "metadata": {},
   "outputs": [],
   "source": [
    "ppg_signal = hp.get_data('data.csv')\n",
    "sr = 100 #sample rate\n",
    "signals, info = nk.ppg_process(ppg_signal, sampling_rate=sr)\n",
    "\n",
    "# Plot main signal with peaks\n",
    "plt.figure(figsize=(12, 4))\n",
    "plt.plot(signals[\"PPG_Clean\"], label=\"PPG Clean\", color='royalblue')\n",
    "plt.plot(signals[\"PPG_Peaks\"] * signals[\"PPG_Clean\"].max(), 'r.', label=\"Detected Peaks\")\n",
    "plt.title(\"📈 Processed PPG Signal with Peaks\")\n",
    "plt.xlabel(\"Samples\")\n",
    "plt.ylabel(\"Amplitude\")\n",
    "plt.legend()\n",
    "plt.show()\n",
    "\n",
    "print(\"\\n📊 Available columns in processed signal:\")\n",
    "print(signals.columns.tolist())\n",
    "print(\"\\n🔍 First 5 rows of processed signal:\")\n",
    "print(signals.head())"
   ]
  }
 ],
 "metadata": {
  "kernelspec": {
   "display_name": ".venv",
   "language": "python",
   "name": "python3"
  },
  "language_info": {
   "codemirror_mode": {
    "name": "ipython",
    "version": 3
   },
   "file_extension": ".py",
   "mimetype": "text/x-python",
   "name": "python",
   "nbconvert_exporter": "python",
   "pygments_lexer": "ipython3",
   "version": "3.13.5"
  }
 },
 "nbformat": 4,
 "nbformat_minor": 5
}
