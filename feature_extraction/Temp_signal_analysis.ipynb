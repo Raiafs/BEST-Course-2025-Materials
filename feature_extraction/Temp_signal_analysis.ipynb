{
 "cells": [
  {
   "cell_type": "markdown",
   "id": "1108a357",
   "metadata": {},
   "source": [
    "## Temperature Analysis and Feature Extraction\n",
    "\n",
    "In this notebook, you will explore and extract meaningful features from body temperature from the temporal domain.\n",
    "This task will be performed using simple code, but if you believe more features could be explored, we encourage to research libraries that can help you.\n",
    "\n"
   ]
  },
  {
   "cell_type": "code",
   "execution_count": null,
   "id": "4fe3e376",
   "metadata": {},
   "outputs": [],
   "source": [
    "import numpy as np"
   ]
  },
  {
   "cell_type": "markdown",
   "id": "d6c47217",
   "metadata": {},
   "source": [
    "### Temporal Features Extraction\n",
    "\n",
    "Now that we have the required imports, we can extract features from the signal.\n",
    "To extract features, there are 2 approaches you can use:\n",
    "- The libraries we are using already provide certain features. You can check what features are extracted automatically with the libraries in the last blocks of this notebook.\n",
    "- Certain features are statistical. We can use numpy to perform statistical operations on properties of the signal to acquire them.\n",
    "\n",
    "In the script below we have examples of the second scenario, using numpy and scipy.stats to extract features, working as follows:\n",
    "1. Extract the difference between average temperature of the person and the environment.\n",
    "2. Extract the trend of the temperature change using the slope of a linear regression.\n",
    "\n",
    "Now you can add and remove features according to the list of features you chose for your project."
   ]
  },
  {
   "cell_type": "code",
   "execution_count": null,
   "id": "3fbb6ad5",
   "metadata": {},
   "outputs": [],
   "source": [
    "from scipy.stats import linregress\n",
    "\n",
    "def extract_temp_temporal_features( temp_signal:np.array, extr_signal:np.array, sampling_rate:int ) -> tuple :\n",
    "    \"\"\"\n",
    "    Extracts key temperature statistical temporal features from a temperature signal.\n",
    "\n",
    "    Parameters:\n",
    "        temp_signal (np.array): The temp signal as a 1D NumPy array of the body temperature.\n",
    "        extr_signal (np.array): The temp signal as a 1D NumPy array of the external temperature.\n",
    "        sampling_rate (int): The sampling rate of the signal in Hz.\n",
    "\n",
    "    Returns:\n",
    "        tuple with temporal features\n",
    "    \"\"\"\n",
    "    \n",
    "    # add and remove features according to your needs. \n",
    "    diff_average = np.mean(temp_signal) - np.mean(extr_signal)\n",
    "    slope, _, _, _, _ = linregress(np.arange(len(temp_signal)), temp_signal)\n",
    "    \n",
    "    \n",
    "    return (diff_average, slope)"
   ]
  }
 ],
 "metadata": {
  "kernelspec": {
   "display_name": ".venv",
   "language": "python",
   "name": "python3"
  },
  "language_info": {
   "codemirror_mode": {
    "name": "ipython",
    "version": 3
   },
   "file_extension": ".py",
   "mimetype": "text/x-python",
   "name": "python",
   "nbconvert_exporter": "python",
   "pygments_lexer": "ipython3",
   "version": "3.13.5"
  }
 },
 "nbformat": 4,
 "nbformat_minor": 5
}
