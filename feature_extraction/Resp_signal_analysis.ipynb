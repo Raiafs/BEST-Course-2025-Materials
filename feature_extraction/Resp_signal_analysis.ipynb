{
 "cells": [
  {
   "cell_type": "markdown",
   "id": "1108a357",
   "metadata": {},
   "source": [
    "## Respiration Analysis and Feature Extraction\n",
    "\n",
    "In this notebook, you will explore and extract meaningful features from body temperature from the temporal domain.\n",
    "This task will be performed using the common librarie for these tasks, NeuroKit2.\n",
    "\n",
    "To get started, install neurokit2. To do it, you can run the following command on the vscode terminal.\n",
    "- pip install neurokit2\n",
    "\n"
   ]
  },
  {
   "cell_type": "code",
   "execution_count": null,
   "id": "4fe3e376",
   "metadata": {},
   "outputs": [],
   "source": [
    "import numpy as np\n",
    "import neurokit2 as nk"
   ]
  },
  {
   "cell_type": "markdown",
   "id": "d6c47217",
   "metadata": {},
   "source": [
    "### Respiration Features Extraction\n",
    "\n",
    "Now that we have the required imports, we can extract features from the signal.\n",
    "To extract features, there are 2 approaches you can use:\n",
    "- The libraries we are using already provide certain features. You can check what features are extracted automatically with the libraries in the last blocks of this notebook.\n",
    "- Certain features are statistical. We can use numpy to perform statistical operations on properties of the signal to acquire them.\n",
    "\n",
    "In the script below we have examples of both techniques, so let's unerstand what we are doing:\n",
    "1. First, we extract a processed format of the signal and its info.\n",
    "2. From the processed signal, we select the peaks list to analyse.\n",
    "3. The respiration rate is a direct feature we can extract from the info.\n",
    "4. Extract RRV from the rate signal (list with the peak intervals).\n",
    "5. Calculate the average cycle duration using the peaks list.\n",
    "\n",
    "Now you can add and remove features according to the list of features you chose for your project."
   ]
  },
  {
   "cell_type": "code",
   "execution_count": null,
   "id": "3fbb6ad5",
   "metadata": {},
   "outputs": [],
   "source": [
    "def extract_resp_temporal_features( resp_signal:np.array, sampling_rate:int ) -> tuple :\n",
    "    \"\"\"\n",
    "    Extracts key respiration statistical temporal features from a respiratory signal.\n",
    "\n",
    "    Parameters:\n",
    "        resp_signal (np.array): The temp signal as a 1D NumPy array of the respiratory cycle.\n",
    "        sampling_rate (int): The sampling rate of the signal in Hz.\n",
    "\n",
    "    Returns:\n",
    "        tuple with temporal features\n",
    "    \"\"\"\n",
    "    # Process the signal\n",
    "    signals, info = nk.rsp_process(resp_signal, sampling_rate=fs)\n",
    "    peaks = info[\"RSP_Peaks\"]\n",
    "    troughs = info[\"RSP_Troughs\"]\n",
    "\n",
    "    # add and remove features according to your needs. \n",
    "    rate = info[\"RSP_Rate\"] \n",
    "    rrv = nk.signal_variability(signals[\"RSP_Rate\"], sampling_rate=sampling_rate)\n",
    "    avg_cycle_duration = np.mean(np.diff(peaks) / sampling_rate)\n",
    "    \n",
    "    \n",
    "    return (rate, rrv, avg_cycle_duration)"
   ]
  }
 ],
 "metadata": {
  "kernelspec": {
   "display_name": ".venv",
   "language": "python",
   "name": "python3"
  },
  "language_info": {
   "codemirror_mode": {
    "name": "ipython",
    "version": 3
   },
   "file_extension": ".py",
   "mimetype": "text/x-python",
   "name": "python",
   "nbconvert_exporter": "python",
   "pygments_lexer": "ipython3",
   "version": "3.13.5"
  }
 },
 "nbformat": 4,
 "nbformat_minor": 5
}
