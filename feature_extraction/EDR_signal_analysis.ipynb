{
 "cells": [
  {
   "cell_type": "markdown",
   "id": "1108a357",
   "metadata": {},
   "source": [
    "## PPG Signal Analysis and Feature Extraction\n",
    "\n",
    "In this notebook, you will explore and extract meaningful features from EDR (Eletrodermal Response) signals from the temporal domain.\n",
    "This task will be performed using the common librarie for these tasks, NeuroKit2.\n",
    "\n",
    "To get started, install neurokit2. To do it, you can run the following command on the vscode terminal.\n",
    "- pip install neurokit2\n"
   ]
  },
  {
   "cell_type": "code",
   "execution_count": null,
   "id": "09022488",
   "metadata": {},
   "outputs": [],
   "source": [
    "import neurokit2 as nk\n",
    "import matplotlib.pyplot as plt\n",
    "import numpy as np\n",
    "import pandas as pd"
   ]
  },
  {
   "cell_type": "markdown",
   "id": "d6c47217",
   "metadata": {},
   "source": [
    "### Temporal Features Extraction\n",
    "\n",
    "Now that we have the required imports, we can extract features from the signal.\n",
    "To extract features, there are 2 approaches you can use:\n",
    "- The libraries we are using already provide certain features. You can check what features are extracted automatically with the libraries in the last blocks of this notebook.\n",
    "- Certain features are statistical. We can use numpy to perform statistical operations on properties of the signal to acquire them.\n",
    "\n",
    "In the script below we have examples of both techniques, so let's unerstand what we are doing:\n",
    "1. First, we extract the signals and info of the signal, obtaining the skin conductance as a clean signal.\n",
    "2. Using the clean signal, we can calculate the average skin conductance of the signal.\n",
    "3. We can also extract the amplitude by the difference of max and min of the signal.\n",
    "\n",
    "Now you can add and remove features according to the list of features you chose for your project."
   ]
  },
  {
   "cell_type": "code",
   "execution_count": 8,
   "id": "3fbb6ad5",
   "metadata": {},
   "outputs": [],
   "source": [
    "def extract_edr_temporal_features( edr_signal:np.array, sampling_rate:int ) -> tuple :\n",
    "    \"\"\"\n",
    "    Extracts key Eletrodermal Response (EDR) and statistical temporal features from a EDR signal.\n",
    "\n",
    "    Parameters:\n",
    "        edr_signal (np.array): The raw EDR signal as a 1D NumPy array.\n",
    "        sampling_rate (int): The sampling rate of the signal in Hz.\n",
    "\n",
    "    Returns:\n",
    "        tuple with temporal features\n",
    "    \"\"\"\n",
    "    signals, info = nk.eda_process(edr_signal, sampling_rate=sampling_rate)\n",
    "    sc = signals[\"EDA_Clean\"]\n",
    "    \n",
    "    avg_conductance = np.mean(sc)\n",
    "    scr_amplitudes = sc.max() - sc.min()\n",
    "    \n",
    "    return (avg_conductance, scr_amplitudes)"
   ]
  },
  {
   "cell_type": "markdown",
   "id": "52e1d3c6",
   "metadata": {},
   "source": [
    "### NeuroKit2 Structure\n",
    "\n",
    "Neurokit2 has the power to process multiple signals. For this module, we will be using the method eda_process() to obtain the signals(DataFrame) and info(dict).\n",
    "The script below is meant to help you understand how the DataFrame is structured."
   ]
  },
  {
   "cell_type": "code",
   "execution_count": null,
   "id": "0b2a402d",
   "metadata": {},
   "outputs": [],
   "source": [
    "eda_signal = pd.read_csv(\"ppg_data.csv\").values.flatten()\n",
    "sampling_rate = 100  # Adjust if needed\n",
    "\n",
    "# --- Process the EDA signal ---\n",
    "signals, info = nk.eda_process(eda_signal, sampling_rate=sampling_rate)\n",
    "\n",
    "# --- Plot the cleaned EDA signal with SCR peaks ---\n",
    "plt.figure(figsize=(12, 4))\n",
    "plt.plot(signals[\"EDA_Clean\"], label=\"EDA Clean\", color='seagreen')\n",
    "\n",
    "# Plot SCR peaks (detected skin conductance responses)\n",
    "# Multiply by max to align with the signal visually\n",
    "plt.plot(signals[\"SCR_Peaks\"] * signals[\"EDA_Clean\"].max(), 'r.', label=\"SCR Peaks\")\n",
    "\n",
    "plt.title(\"📈 Processed EDA Signal with SCR Peaks\")\n",
    "plt.xlabel(\"Samples\")\n",
    "plt.ylabel(\"Conductance (μS)\")\n",
    "plt.legend()\n",
    "plt.tight_layout()\n",
    "plt.show()\n",
    "\n",
    "# --- Show available features ---\n",
    "print(\"\\n📊 Available columns in processed EDA signal:\")\n",
    "print(signals.columns.tolist())\n",
    "\n",
    "print(\"\\n🔍 First 5 rows of processed signal:\")\n",
    "print(signals.head())"
   ]
  }
 ],
 "metadata": {
  "kernelspec": {
   "display_name": ".venv",
   "language": "python",
   "name": "python3"
  },
  "language_info": {
   "codemirror_mode": {
    "name": "ipython",
    "version": 3
   },
   "file_extension": ".py",
   "mimetype": "text/x-python",
   "name": "python",
   "nbconvert_exporter": "python",
   "pygments_lexer": "ipython3",
   "version": "3.13.5"
  }
 },
 "nbformat": 4,
 "nbformat_minor": 5
}
